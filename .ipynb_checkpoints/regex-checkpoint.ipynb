{
 "cells": [
  {
   "cell_type": "code",
   "execution_count": 1,
   "metadata": {},
   "outputs": [],
   "source": [
    "                                                                                                                                # Regular expression \n",
    "import re"
   ]
  },
  {
   "cell_type": "code",
   "execution_count": 2,
   "metadata": {},
   "outputs": [
    {
     "name": "stdout",
     "output_type": "stream",
     "text": [
      "he had a great\n"
     ]
    }
   ],
   "source": [
    "text = \"This is a great day.\"\n",
    "\n",
    "if re.search('great', text):\n",
    "    print(\"he had a great\")\n",
    "else:\n",
    "    print(\"he had a bad time\")\n",
    "    \n",
    "    "
   ]
  },
  {
   "cell_type": "code",
   "execution_count": 4,
   "metadata": {},
   "outputs": [
    {
     "data": {
      "text/plain": [
       "['', ' is Hardworking, ', ' is smart']"
      ]
     },
     "execution_count": 4,
     "metadata": {},
     "output_type": "execute_result"
    }
   ],
   "source": [
    "txt = 'Varun is Hardworking, Varun is smart'\n",
    "re.split('Varun', txt)"
   ]
  },
  {
   "cell_type": "code",
   "execution_count": 5,
   "metadata": {},
   "outputs": [
    {
     "data": {
      "text/plain": [
       "['Varun', 'Varun']"
      ]
     },
     "execution_count": 5,
     "metadata": {},
     "output_type": "execute_result"
    }
   ],
   "source": [
    "re.findall('Varun', txt)"
   ]
  },
  {
   "cell_type": "code",
   "execution_count": 2,
   "metadata": {},
   "outputs": [
    {
     "data": {
      "text/plain": [
       "(array([0.12790737, 0.21855   , 0.30489232, 0.65439225]),\n",
       " array([[0.30516358],\n",
       "        [0.35232058],\n",
       "        [0.55885484],\n",
       "        [0.5339103 ]]),\n",
       " array([[1, 2, 3, 4]]),\n",
       " array([1, 2, 3]),\n",
       " array([1., 2., 3., 4.]))"
      ]
     },
     "execution_count": 2,
     "metadata": {},
     "output_type": "execute_result"
    }
   ],
   "source": [
    "import numpy as np\n",
    "a1 = np.random.rand(4)\n",
    "a2 = np.random.rand(4, 1)\n",
    "a3 = np.array([[1, 2, 3, 4]])\n",
    "a4 = np.arange(1, 4, 1)\n",
    "a5 = np.linspace(1 ,4, 4) \n",
    "a1,a2,a3,a4,a5"
   ]
  },
  {
   "cell_type": "code",
   "execution_count": 3,
   "metadata": {},
   "outputs": [
    {
     "data": {
      "text/plain": [
       "(4,)"
      ]
     },
     "execution_count": 3,
     "metadata": {},
     "output_type": "execute_result"
    }
   ],
   "source": [
    "a5.shape\n"
   ]
  },
  {
   "cell_type": "code",
   "execution_count": 4,
   "metadata": {},
   "outputs": [
    {
     "data": {
      "text/plain": [
       "(4,)"
      ]
     },
     "execution_count": 4,
     "metadata": {},
     "output_type": "execute_result"
    }
   ],
   "source": [
    "a1.shape\n"
   ]
  },
  {
   "cell_type": "code",
   "execution_count": 5,
   "metadata": {},
   "outputs": [
    {
     "data": {
      "text/plain": [
       "(1, 4)"
      ]
     },
     "execution_count": 5,
     "metadata": {},
     "output_type": "execute_result"
    }
   ],
   "source": [
    "a3.shape"
   ]
  },
  {
   "cell_type": "code",
   "execution_count": 6,
   "metadata": {},
   "outputs": [
    {
     "data": {
      "text/plain": [
       "(3,)"
      ]
     },
     "execution_count": 6,
     "metadata": {},
     "output_type": "execute_result"
    }
   ],
   "source": [
    "a4.shape\n"
   ]
  },
  {
   "cell_type": "code",
   "execution_count": 13,
   "metadata": {},
   "outputs": [
    {
     "data": {
      "text/plain": [
       "['Amy', 'Mary', 'Ruth', 'Peter']"
      ]
     },
     "execution_count": 13,
     "metadata": {},
     "output_type": "execute_result"
    }
   ],
   "source": [
    "import re\n",
    "simple_string = \"\"\"Amy is 5 years old, and her sister Mary is 2 years old. \n",
    "    Ruth and Peter, their parents, have 3 kids.\"\"\"\n",
    "re.findall(\"([A-Z][a-z]{2,4})\", simple_string)"
   ]
  },
  {
   "cell_type": "code",
   "execution_count": 25,
   "metadata": {
    "scrolled": true
   },
   "outputs": [
    {
     "data": {
      "text/plain": [
       "'Ronald Mayr: A\\nBell Kassulke: B\\nJacqueline Rupp: A \\nAlexander Zeller: C\\nValentina Denk: C \\nSimon Loidl: B \\nElias Jovanovic: B \\nStefanie Weninger: A \\nFabian Peer: C \\nHakim Botros: B\\nEmilie Lorentsen: B\\nHerman Karlsen: C\\nNathalie Delacruz: C\\nCasey Hartman: C\\nLily Walker : A\\nGerard Wang: C\\nTony Mcdowell: C\\nJake Wood: B\\nFatemeh Akhtar: B\\nKim Weston: B\\nNicholas Beatty: A\\nKirsten Williams: C\\nVaishali Surana: C\\nCoby Mccormack: C\\nYasmin Dar: B\\nRomy Donnelly: A\\nViswamitra Upandhye: B\\nKendrick Hilpert: A\\nKillian Kaufman: B\\nElwood Page: B\\nMukti Patel: A\\nEmily Lesch: C\\nElodie Booker: B\\nJedd Kim: A\\nAnnabel Davies: A\\nAdnan Chen: B\\nJonathan Berg: C\\nHank Spinka: B\\nAgnes Schneider: C\\nKimberly Green: A\\nLola-Rose Coates: C\\nRose Christiansen: C\\nShirley Hintz: C\\nHannah Bayer: B'"
      ]
     },
     "execution_count": 25,
     "metadata": {},
     "output_type": "execute_result"
    }
   ],
   "source": [
    "with open (\"grades.txt\", \"r\") as file:\n",
    "    grades = file.read()\n",
    "\n",
    "# YOUR CODE HERE\n",
    "grades"
   ]
  },
  {
   "cell_type": "code",
   "execution_count": 52,
   "metadata": {},
   "outputs": [
    {
     "name": "stdout",
     "output_type": "stream",
     "text": [
      "['Bell Kassulke', 'Simon Loidl', 'Elias Jovanovic', 'Hakim Botros', 'Emilie Lorentsen', 'Jake Wood', 'Fatemeh Akhtar', 'Kim Weston', 'Yasmin Dar', 'Viswamitra Upandhye', 'Killian Kaufman', 'Elwood Page', 'Elodie Booker', 'Adnan Chen', 'Hank Spinka', 'Hannah Bayer']\n",
      "16\n"
     ]
    }
   ],
   "source": [
    "pattern = \"(?P<name>[A-Za-z]*\\s[A-Za-z]*)(?=:\\s[B]\\n|:\\s[B]\\s|:\\s[B])\"\n",
    "\n",
    "var = re.findall(pattern, grades)\n",
    "print(var)\n",
    "print(len(var))"
   ]
  },
  {
   "cell_type": "code",
   "execution_count": null,
   "metadata": {},
   "outputs": [],
   "source": []
  }
 ],
 "metadata": {
  "kernelspec": {
   "display_name": "Python 3",
   "language": "python",
   "name": "python3"
  },
  "language_info": {
   "codemirror_mode": {
    "name": "ipython",
    "version": 3
   },
   "file_extension": ".py",
   "mimetype": "text/x-python",
   "name": "python",
   "nbconvert_exporter": "python",
   "pygments_lexer": "ipython3",
   "version": "3.8.10"
  }
 },
 "nbformat": 4,
 "nbformat_minor": 4
}
