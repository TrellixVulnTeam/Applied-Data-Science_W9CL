{
 "cells": [
  {
   "cell_type": "markdown",
   "metadata": {
    "colab_type": "text",
    "id": "view-in-github"
   },
   "source": [
    "<a href=\"https://colab.research.google.com/github/varmor/DS-Practise/blob/master/numpy_practise.ipynb\" target=\"_parent\"><img src=\"https://colab.research.google.com/assets/colab-badge.svg\" alt=\"Open In Colab\"/></a>"
   ]
  },
  {
   "cell_type": "code",
   "execution_count": 3,
   "metadata": {
    "colab": {
     "base_uri": "https://localhost:8080/"
    },
    "id": "KXSqyKd4zD49",
    "outputId": "93f8bdcb-ca04-4a02-8a0b-6cb091111a38"
   },
   "outputs": [
    {
     "name": "stdout",
     "output_type": "stream",
     "text": [
      "[1. 4. 5. 8.]\n",
      "\n",
      "[[1. 2. 3.]\n",
      " [4. 5. 6.]]\n"
     ]
    }
   ],
   "source": [
    "import numpy as np\n",
    "'''\n",
    "The array object class is the foundation of Numpy, and Numpy arrays are like lists in Python, except that every thing inside an array must be of the same type, like int or float.\n",
    "'''\n",
    "# Change False to True to see Numpy arrays in action\n",
    "if True:\n",
    "    array = np.array([1, 4, 5, 8], float)\n",
    "    print (array)\n",
    "    print (\"\")\n",
    "    array = np.array([[1, 2, 3], [4, 5, 6]], float)  # a 2D array/Matrix\n",
    "    print (array)"
   ]
  },
  {
   "cell_type": "code",
   "execution_count": 9,
   "metadata": {
    "colab": {
     "base_uri": "https://localhost:8080/"
    },
    "id": "ssey30RS1yPh",
    "outputId": "f3dbd6ea-2bd5-4e9b-a60e-a9baf0eacdf6"
   },
   "outputs": [
    {
     "name": "stdout",
     "output_type": "stream",
     "text": [
      "[1. 4. 5. 8.]\n",
      "\n",
      "4.0\n",
      "\n",
      "[1. 4.]\n",
      "\n",
      "5.0\n"
     ]
    }
   ],
   "source": [
    "'''\n",
    "You can index, slice, and manipulate a Numpy array much like you would with a\n",
    "a Python list.\n",
    "'''\n",
    "# Change False to True to see array indexing and slicing in action\n",
    "if True:\n",
    "    array = np.array([1, 4, 5, 8], float)\n",
    "    print (array)\n",
    "    print (\"\")\n",
    "    print (array[1])\n",
    "    print (\"\")\n",
    "    print (array[:2])\n",
    "    print (\"\")\n",
    "    array[1] = 5.0\n",
    "    print (array[1])\n"
   ]
  },
  {
   "cell_type": "code",
   "execution_count": 18,
   "metadata": {
    "colab": {
     "base_uri": "https://localhost:8080/"
    },
    "id": "SZ6sQVVq29YR",
    "outputId": "67b7acc4-eaf3-4058-ac58-804c48eaef27"
   },
   "outputs": [
    {
     "name": "stdout",
     "output_type": "stream",
     "text": [
      "[[1. 2. 3.]\n",
      " [4. 5. 6.]]\n",
      "\n",
      "5.0\n",
      "\n",
      "[4. 5. 6.]\n",
      "\n",
      "[1. 4.]\n"
     ]
    }
   ],
   "source": [
    "# Change False to True to see Matrix indexing and slicing in action\n",
    "if True:\n",
    "    two_D_array = np.array([[1, 2, 3], [4, 5, 6]], float)\n",
    "    print (two_D_array)\n",
    "    print (\"\")\n",
    "    print (two_D_array[1][1])\n",
    "    print (\"\")\n",
    "    print (two_D_array[1, :])\n",
    "    print (\"\")\n",
    "    print (two_D_array[: ,0])"
   ]
  },
  {
   "cell_type": "code",
   "execution_count": 20,
   "metadata": {
    "colab": {
     "base_uri": "https://localhost:8080/"
    },
    "id": "_DvJp4Ar3siB",
    "outputId": "42a2f513-1d38-4c09-c4fd-a269b8311925"
   },
   "outputs": [
    {
     "name": "stdout",
     "output_type": "stream",
     "text": [
      "[6. 4. 9.]\n",
      "\n",
      "[-4.  0. -3.]\n",
      "\n",
      "[ 5.  4. 18.]\n"
     ]
    }
   ],
   "source": [
    "'''\n",
    "Here are some arithmetic operations that you can do with Numpy arrays\n",
    "'''\n",
    "# Change False to True to see Array arithmetics in action\n",
    "if True:\n",
    "    array_1 = np.array([1, 2, 3], float)\n",
    "    array_2 = np.array([5, 2, 6], float)\n",
    "    print (array_1 + array_2)\n",
    "    print (\"\")\n",
    "    print (array_1 - array_2)\n",
    "    print (\"\")\n",
    "    print (array_1 * array_2)"
   ]
  },
  {
   "cell_type": "code",
   "execution_count": 22,
   "metadata": {
    "colab": {
     "base_uri": "https://localhost:8080/"
    },
    "id": "CMgGGjFX5Ssr",
    "outputId": "1cb2cdca-452a-4996-ccb0-3f66ea123e5b"
   },
   "outputs": [
    {
     "name": "stdout",
     "output_type": "stream",
     "text": [
      "[[ 6.  8.]\n",
      " [10. 12.]]\n",
      "\n",
      "[[-4. -4.]\n",
      " [-4. -4.]]\n",
      "\n",
      "[[ 5. 12.]\n",
      " [21. 32.]]\n"
     ]
    }
   ],
   "source": [
    "# Change False to True to see Matrix arithmetics in action\n",
    "if True:\n",
    "    array_1 = np.array([[1, 2], [3, 4]], float)\n",
    "    array_2 = np.array([[5, 6], [7, 8]], float)\n",
    "    print (array_1 + array_2)\n",
    "    print (\"\")\n",
    "    print (array_1 - array_2)\n",
    "    print (\"\")\n",
    "    print (array_1 * array_2)"
   ]
  },
  {
   "cell_type": "code",
   "execution_count": 4,
   "metadata": {
    "colab": {
     "base_uri": "https://localhost:8080/"
    },
    "id": "rde8wle45xSA",
    "outputId": "f9b72b14-f3a9-422f-8f12-4dc536a5caa7"
   },
   "outputs": [
    {
     "name": "stdout",
     "output_type": "stream",
     "text": [
      "2.0\n",
      "7.0\n",
      "\n",
      "[44.]\n"
     ]
    }
   ],
   "source": [
    "'''\n",
    "In addition to the standard arthimetic operations, Numpy also has a range of other mathematical operations that you can apply to Numpy arrays, such as mean and dot product. \n",
    "Both of these functions will be useful in later programming quizzes.\n",
    "'''\n",
    "if True:\n",
    "    array_1 = np.array([1, 2, 3], float)\n",
    "    array_2 = np.array([[6], [7], [8]], float)\n",
    "    print (np.mean(array_1))\n",
    "    print (np.mean(array_2))\n",
    "    print (\"\")\n",
    "    print (np.dot(array_1, array_2))"
   ]
  },
  {
   "cell_type": "code",
   "execution_count": null,
   "metadata": {},
   "outputs": [],
   "source": []
  }
 ],
 "metadata": {
  "colab": {
   "authorship_tag": "ABX9TyOH2CySntapgDRXCvNSu/gE",
   "collapsed_sections": [],
   "include_colab_link": true,
   "name": "numpy-practise.ipynb",
   "provenance": []
  },
  "kernelspec": {
   "display_name": "Python 3",
   "language": "python",
   "name": "python3"
  },
  "language_info": {
   "codemirror_mode": {
    "name": "ipython",
    "version": 3
   },
   "file_extension": ".py",
   "mimetype": "text/x-python",
   "name": "python",
   "nbconvert_exporter": "python",
   "pygments_lexer": "ipython3",
   "version": "3.8.10"
  }
 },
 "nbformat": 4,
 "nbformat_minor": 1
}
