{
 "cells": [
  {
   "cell_type": "markdown",
   "id": "4004a2d9",
   "metadata": {},
   "source": [
    "## Practise Workbook - Pandas\n",
    "**Day 1: 28 Jan 2022**"
   ]
  },
  {
   "cell_type": "code",
   "execution_count": 10,
   "id": "696e914e",
   "metadata": {},
   "outputs": [],
   "source": [
    "import pandas as pd"
   ]
  },
  {
   "cell_type": "code",
   "execution_count": 3,
   "id": "142e1f38",
   "metadata": {},
   "outputs": [
    {
     "data": {
      "text/plain": [
       "0     Varun\n",
       "1    Vedant\n",
       "2     Eshan\n",
       "dtype: object"
      ]
     },
     "execution_count": 3,
     "metadata": {},
     "output_type": "execute_result"
    }
   ],
   "source": [
    "student = ['Varun', 'Vedant', 'Eshan']\n",
    "pd.Series(student) "
   ]
  },
  {
   "cell_type": "code",
   "execution_count": 19,
   "id": "1ab9e177",
   "metadata": {},
   "outputs": [],
   "source": [
    "student_course = {'Varun': 'English',\n",
    "                  'Vedant': 'Computer-Science',\n",
    "                  'Eshan': 'Data-Science'\n",
    "                 }\n",
    "s = pd.Series(student_course)"
   ]
  },
  {
   "cell_type": "code",
   "execution_count": 20,
   "id": "72a1fdc6",
   "metadata": {},
   "outputs": [
    {
     "data": {
      "text/plain": [
       "Index(['Varun', 'Vedant', 'Eshan'], dtype='object')"
      ]
     },
     "execution_count": 20,
     "metadata": {},
     "output_type": "execute_result"
    }
   ],
   "source": [
    "s.index"
   ]
  },
  {
   "cell_type": "code",
   "execution_count": 7,
   "id": "49f2f4f0",
   "metadata": {},
   "outputs": [
    {
     "data": {
      "text/plain": [
       "0    1\n",
       "1    2\n",
       "2    3\n",
       "dtype: int64"
      ]
     },
     "execution_count": 7,
     "metadata": {},
     "output_type": "execute_result"
    }
   ],
   "source": [
    "numbers = [1, 2, 3]\n",
    "pd.Series(numbers)"
   ]
  },
  {
   "cell_type": "code",
   "execution_count": 22,
   "id": "07d75d76",
   "metadata": {},
   "outputs": [
    {
     "data": {
      "text/plain": [
       "0            (varun, more)\n",
       "1           (vedant, more)\n",
       "2    (Prathamesh, Ghatole)\n",
       "dtype: object"
      ]
     },
     "execution_count": 22,
     "metadata": {},
     "output_type": "execute_result"
    }
   ],
   "source": [
    "names = [('Varun', 'More'),('Vedant', 'More'), ('Prathamesh', 'Ghatole')]\n",
    "s1 =  pd.Series(names)\n",
    "s1"
   ]
  },
  {
   "cell_type": "code",
   "execution_count": 28,
   "id": "cc3470e3",
   "metadata": {},
   "outputs": [
    {
     "data": {
      "text/plain": [
       "Machine-Learning       Varun\n",
       "Data-Science        Rudraksh\n",
       "Computer-Science      Devang\n",
       "dtype: object"
      ]
     },
     "execution_count": 28,
     "metadata": {},
     "output_type": "execute_result"
    }
   ],
   "source": [
    "s2 = pd.Series(['Varun', 'Rudraksh', 'Devang'], index= ['Machine-Learning', 'Data-Science', 'Computer-Science'])\n",
    "s2"
   ]
  },
  {
   "cell_type": "markdown",
   "id": "de56ed06",
   "metadata": {},
   "source": [
    " **None vs NaN** -\n",
    "\n",
    "If we create a list of numbers, integers, or floats and put it in a None type, pandas automatically converts this into a special floating-point value designated as NaN which stands for Not a Number."
   ]
  },
  {
   "cell_type": "code",
   "execution_count": 9,
   "id": "c81dfa16",
   "metadata": {},
   "outputs": [
    {
     "data": {
      "text/plain": [
       "0     Varun\n",
       "1    Vedant\n",
       "2      None\n",
       "dtype: object"
      ]
     },
     "execution_count": 9,
     "metadata": {},
     "output_type": "execute_result"
    }
   ],
   "source": [
    "student = ['Varun', 'Vedant', None]\n",
    "pd.Series(student) "
   ]
  },
  {
   "cell_type": "code",
   "execution_count": 8,
   "id": "216b8cfa",
   "metadata": {},
   "outputs": [
    {
     "data": {
      "text/plain": [
       "0    1.0\n",
       "1    2.0\n",
       "2    NaN\n",
       "dtype: float64"
      ]
     },
     "execution_count": 8,
     "metadata": {},
     "output_type": "execute_result"
    }
   ],
   "source": [
    "numbers = [1, 2, None]\n",
    "pd.Series(numbers) "
   ]
  },
  {
   "cell_type": "markdown",
   "id": "c5c36dc3",
   "metadata": {},
   "source": [
    "In above code sample third value is different value and pandas set the dtype to this series a floating point numbers instead of an object.\n",
    "\n",
    "Pandas represent NaN as a floating point number and because all integers can type cast to float pandas type casted all the intergers to float."
   ]
  },
  {
   "cell_type": "code",
   "execution_count": 12,
   "id": "1db29151",
   "metadata": {},
   "outputs": [
    {
     "data": {
      "text/plain": [
       "False"
      ]
     },
     "execution_count": 12,
     "metadata": {},
     "output_type": "execute_result"
    }
   ],
   "source": [
    "import numpy as np\n",
    "\n",
    "np.nan == None "
   ]
  },
  {
   "cell_type": "code",
   "execution_count": 29,
   "id": "5afe9bc8",
   "metadata": {},
   "outputs": [
    {
     "data": {
      "text/plain": [
       "False"
      ]
     },
     "execution_count": 29,
     "metadata": {},
     "output_type": "execute_result"
    }
   ],
   "source": [
    "np.nan == np.nan"
   ]
  },
  {
   "cell_type": "code",
   "execution_count": 30,
   "id": "00530d3a",
   "metadata": {},
   "outputs": [
    {
     "data": {
      "text/plain": [
       "True"
      ]
     },
     "execution_count": 30,
     "metadata": {},
     "output_type": "execute_result"
    }
   ],
   "source": [
    "#We use special function to test for the presence of (NaN) Not a Number such as the Numpy library isnan() function.\n",
    "np.isnan(np.nan) "
   ]
  },
  {
   "cell_type": "code",
   "execution_count": 32,
   "id": "73120de2",
   "metadata": {},
   "outputs": [
    {
     "data": {
      "text/plain": [
       "Varun           Hockey\n",
       "Eshan       Basketball\n",
       "Rudraksh           NaN\n",
       "dtype: object"
      ]
     },
     "execution_count": 32,
     "metadata": {},
     "output_type": "execute_result"
    }
   ],
   "source": [
    "players = {\n",
    "    'Varun':'Hockey',\n",
    "    'Eshan':'Basketball',\n",
    "    'Devang': 'Criket'\n",
    "}\n",
    "pd.Series(players, index = ['Varun', 'Eshan','Rudraksh'])"
   ]
  }
 ],
 "metadata": {
  "kernelspec": {
   "display_name": "Python 3 (ipykernel)",
   "language": "python",
   "name": "python3"
  },
  "language_info": {
   "codemirror_mode": {
    "name": "ipython",
    "version": 3
   },
   "file_extension": ".py",
   "mimetype": "text/x-python",
   "name": "python",
   "nbconvert_exporter": "python",
   "pygments_lexer": "ipython3",
   "version": "3.9.7"
  }
 },
 "nbformat": 4,
 "nbformat_minor": 5
}
