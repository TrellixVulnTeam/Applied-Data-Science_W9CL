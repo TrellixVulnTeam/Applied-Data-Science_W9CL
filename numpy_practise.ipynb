{
  "nbformat": 4,
  "nbformat_minor": 0,
  "metadata": {
    "colab": {
      "name": "numpy-practise.ipynb",
      "provenance": [],
      "authorship_tag": "ABX9TyNHnesePg9G7LUh+RTvJqsi",
      "include_colab_link": true
    },
    "kernelspec": {
      "name": "python3",
      "display_name": "Python 3"
    },
    "language_info": {
      "name": "python"
    }
  },
  "cells": [
    {
      "cell_type": "markdown",
      "metadata": {
        "id": "view-in-github",
        "colab_type": "text"
      },
      "source": [
        "<a href=\"https://colab.research.google.com/github/varmor/DS-Practise/blob/master/numpy_practise.ipynb\" target=\"_parent\"><img src=\"https://colab.research.google.com/assets/colab-badge.svg\" alt=\"Open In Colab\"/></a>"
      ]
    },
    {
      "cell_type": "code",
      "execution_count": 6,
      "metadata": {
        "colab": {
          "base_uri": "https://localhost:8080/"
        },
        "id": "KXSqyKd4zD49",
        "outputId": "93f8bdcb-ca04-4a02-8a0b-6cb091111a38"
      },
      "outputs": [
        {
          "output_type": "stream",
          "name": "stdout",
          "text": [
            "[1. 4. 5. 8.]\n",
            "\n",
            "[[1. 2. 3.]\n",
            " [4. 5. 6.]]\n"
          ]
        }
      ],
      "source": [
        "import numpy as np\n",
        "'''\n",
        "The array object class is the foundation of Numpy, and Numpy arrays are like\n",
        "lists in Python, except that every thing inside an array must be of the\n",
        "same type, like int or float.\n",
        "'''\n",
        "# Change False to True to see Numpy arrays in action\n",
        "if True:\n",
        "    array = np.array([1, 4, 5, 8], float)\n",
        "    print (array)\n",
        "    print (\"\")\n",
        "    array = np.array([[1, 2, 3], [4, 5, 6]], float)  # a 2D array/Matrix\n",
        "    print (array)"
      ]
    },
    {
      "cell_type": "code",
      "source": [
        "'''\n",
        "You can index, slice, and manipulate a Numpy array much like you would with a\n",
        "a Python list.\n",
        "'''\n",
        "# Change False to True to see array indexing and slicing in action\n",
        "if True:\n",
        "    array = np.array([1, 4, 5, 8], float)\n",
        "    print (array)\n",
        "    print (\"\")\n",
        "    print (array[1])\n",
        "    print (\"\")\n",
        "    print (array[:2])\n",
        "    print (\"\")\n",
        "    array[1] = 5.0\n",
        "    print (array[1])\n"
      ],
      "metadata": {
        "colab": {
          "base_uri": "https://localhost:8080/"
        },
        "id": "ssey30RS1yPh",
        "outputId": "f3dbd6ea-2bd5-4e9b-a60e-a9baf0eacdf6"
      },
      "execution_count": 9,
      "outputs": [
        {
          "output_type": "stream",
          "name": "stdout",
          "text": [
            "[1. 4. 5. 8.]\n",
            "\n",
            "4.0\n",
            "\n",
            "[1. 4.]\n",
            "\n",
            "5.0\n"
          ]
        }
      ]
    },
    {
      "cell_type": "code",
      "source": [
        ""
      ],
      "metadata": {
        "id": "SZ6sQVVq29YR"
      },
      "execution_count": 9,
      "outputs": []
    }
  ]
}